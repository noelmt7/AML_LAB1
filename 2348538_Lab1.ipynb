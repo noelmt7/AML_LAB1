{
  "cells": [
    {
      "cell_type": "markdown",
      "metadata": {
        "id": "view-in-github",
        "colab_type": "text"
      },
      "source": [
        "<a href=\"https://colab.research.google.com/github/noelmt7/AML_LAB1/blob/main/2348538_Lab1.ipynb\" target=\"_parent\"><img src=\"https://colab.research.google.com/assets/colab-badge.svg\" alt=\"Open In Colab\"/></a>"
      ]
    },
    {
      "cell_type": "code",
      "execution_count": 1,
      "metadata": {
        "id": "3Io3UQUS6Nd_"
      },
      "outputs": [],
      "source": [
        "import pandas as pd\n",
        "import matplotlib.pyplot as plt\n",
        "import seaborn as sns\n",
        "import numpy as np\n",
        "import sklearn"
      ]
    },
    {
      "cell_type": "code",
      "execution_count": 2,
      "metadata": {
        "colab": {
          "base_uri": "https://localhost:8080/",
          "height": 226
        },
        "id": "5vEIO4Np6YHY",
        "outputId": "654f3b00-5cb1-4f23-b332-083d54f532e6"
      },
      "outputs": [
        {
          "output_type": "execute_result",
          "data": {
            "text/plain": [
              "   Crime_Rate  Zone_proportion  Non_Retail_Acres  CHAS    NOX  Avg_rooms  \\\n",
              "0     0.06860              0.0              2.89     0  0.445      7.416   \n",
              "1     0.14866              0.0              8.56     0  0.520      6.727   \n",
              "2     0.11432              0.0              8.56     0  0.520      6.781   \n",
              "3     0.22876              0.0              8.56     0  0.520      6.405   \n",
              "4     0.21161              0.0              8.56     0  0.520      6.137   \n",
              "\n",
              "    AGE  Distance  RAD  Property_TaxRate  PTRATIO       B  LSTAT  MValue  \n",
              "0  62.5    3.4952    2               276     18.0  396.90   6.19    33.2  \n",
              "1  79.9    2.7778    5               384     20.9  394.76   9.42    27.5  \n",
              "2  71.3    2.8561    5               384     20.9  395.58   7.67    26.5  \n",
              "3  85.4    2.7147    5               384     20.9   70.80  10.63    18.6  \n",
              "4  87.4    2.7147    5               384     20.9  394.47  13.44    19.3  "
            ],
            "text/html": [
              "\n",
              "  <div id=\"df-73ad586a-bdce-4387-9b87-5b6d5988403e\" class=\"colab-df-container\">\n",
              "    <div>\n",
              "<style scoped>\n",
              "    .dataframe tbody tr th:only-of-type {\n",
              "        vertical-align: middle;\n",
              "    }\n",
              "\n",
              "    .dataframe tbody tr th {\n",
              "        vertical-align: top;\n",
              "    }\n",
              "\n",
              "    .dataframe thead th {\n",
              "        text-align: right;\n",
              "    }\n",
              "</style>\n",
              "<table border=\"1\" class=\"dataframe\">\n",
              "  <thead>\n",
              "    <tr style=\"text-align: right;\">\n",
              "      <th></th>\n",
              "      <th>Crime_Rate</th>\n",
              "      <th>Zone_proportion</th>\n",
              "      <th>Non_Retail_Acres</th>\n",
              "      <th>CHAS</th>\n",
              "      <th>NOX</th>\n",
              "      <th>Avg_rooms</th>\n",
              "      <th>AGE</th>\n",
              "      <th>Distance</th>\n",
              "      <th>RAD</th>\n",
              "      <th>Property_TaxRate</th>\n",
              "      <th>PTRATIO</th>\n",
              "      <th>B</th>\n",
              "      <th>LSTAT</th>\n",
              "      <th>MValue</th>\n",
              "    </tr>\n",
              "  </thead>\n",
              "  <tbody>\n",
              "    <tr>\n",
              "      <th>0</th>\n",
              "      <td>0.06860</td>\n",
              "      <td>0.0</td>\n",
              "      <td>2.89</td>\n",
              "      <td>0</td>\n",
              "      <td>0.445</td>\n",
              "      <td>7.416</td>\n",
              "      <td>62.5</td>\n",
              "      <td>3.4952</td>\n",
              "      <td>2</td>\n",
              "      <td>276</td>\n",
              "      <td>18.0</td>\n",
              "      <td>396.90</td>\n",
              "      <td>6.19</td>\n",
              "      <td>33.2</td>\n",
              "    </tr>\n",
              "    <tr>\n",
              "      <th>1</th>\n",
              "      <td>0.14866</td>\n",
              "      <td>0.0</td>\n",
              "      <td>8.56</td>\n",
              "      <td>0</td>\n",
              "      <td>0.520</td>\n",
              "      <td>6.727</td>\n",
              "      <td>79.9</td>\n",
              "      <td>2.7778</td>\n",
              "      <td>5</td>\n",
              "      <td>384</td>\n",
              "      <td>20.9</td>\n",
              "      <td>394.76</td>\n",
              "      <td>9.42</td>\n",
              "      <td>27.5</td>\n",
              "    </tr>\n",
              "    <tr>\n",
              "      <th>2</th>\n",
              "      <td>0.11432</td>\n",
              "      <td>0.0</td>\n",
              "      <td>8.56</td>\n",
              "      <td>0</td>\n",
              "      <td>0.520</td>\n",
              "      <td>6.781</td>\n",
              "      <td>71.3</td>\n",
              "      <td>2.8561</td>\n",
              "      <td>5</td>\n",
              "      <td>384</td>\n",
              "      <td>20.9</td>\n",
              "      <td>395.58</td>\n",
              "      <td>7.67</td>\n",
              "      <td>26.5</td>\n",
              "    </tr>\n",
              "    <tr>\n",
              "      <th>3</th>\n",
              "      <td>0.22876</td>\n",
              "      <td>0.0</td>\n",
              "      <td>8.56</td>\n",
              "      <td>0</td>\n",
              "      <td>0.520</td>\n",
              "      <td>6.405</td>\n",
              "      <td>85.4</td>\n",
              "      <td>2.7147</td>\n",
              "      <td>5</td>\n",
              "      <td>384</td>\n",
              "      <td>20.9</td>\n",
              "      <td>70.80</td>\n",
              "      <td>10.63</td>\n",
              "      <td>18.6</td>\n",
              "    </tr>\n",
              "    <tr>\n",
              "      <th>4</th>\n",
              "      <td>0.21161</td>\n",
              "      <td>0.0</td>\n",
              "      <td>8.56</td>\n",
              "      <td>0</td>\n",
              "      <td>0.520</td>\n",
              "      <td>6.137</td>\n",
              "      <td>87.4</td>\n",
              "      <td>2.7147</td>\n",
              "      <td>5</td>\n",
              "      <td>384</td>\n",
              "      <td>20.9</td>\n",
              "      <td>394.47</td>\n",
              "      <td>13.44</td>\n",
              "      <td>19.3</td>\n",
              "    </tr>\n",
              "  </tbody>\n",
              "</table>\n",
              "</div>\n",
              "    <div class=\"colab-df-buttons\">\n",
              "\n",
              "  <div class=\"colab-df-container\">\n",
              "    <button class=\"colab-df-convert\" onclick=\"convertToInteractive('df-73ad586a-bdce-4387-9b87-5b6d5988403e')\"\n",
              "            title=\"Convert this dataframe to an interactive table.\"\n",
              "            style=\"display:none;\">\n",
              "\n",
              "  <svg xmlns=\"http://www.w3.org/2000/svg\" height=\"24px\" viewBox=\"0 -960 960 960\">\n",
              "    <path d=\"M120-120v-720h720v720H120Zm60-500h600v-160H180v160Zm220 220h160v-160H400v160Zm0 220h160v-160H400v160ZM180-400h160v-160H180v160Zm440 0h160v-160H620v160ZM180-180h160v-160H180v160Zm440 0h160v-160H620v160Z\"/>\n",
              "  </svg>\n",
              "    </button>\n",
              "\n",
              "  <style>\n",
              "    .colab-df-container {\n",
              "      display:flex;\n",
              "      gap: 12px;\n",
              "    }\n",
              "\n",
              "    .colab-df-convert {\n",
              "      background-color: #E8F0FE;\n",
              "      border: none;\n",
              "      border-radius: 50%;\n",
              "      cursor: pointer;\n",
              "      display: none;\n",
              "      fill: #1967D2;\n",
              "      height: 32px;\n",
              "      padding: 0 0 0 0;\n",
              "      width: 32px;\n",
              "    }\n",
              "\n",
              "    .colab-df-convert:hover {\n",
              "      background-color: #E2EBFA;\n",
              "      box-shadow: 0px 1px 2px rgba(60, 64, 67, 0.3), 0px 1px 3px 1px rgba(60, 64, 67, 0.15);\n",
              "      fill: #174EA6;\n",
              "    }\n",
              "\n",
              "    .colab-df-buttons div {\n",
              "      margin-bottom: 4px;\n",
              "    }\n",
              "\n",
              "    [theme=dark] .colab-df-convert {\n",
              "      background-color: #3B4455;\n",
              "      fill: #D2E3FC;\n",
              "    }\n",
              "\n",
              "    [theme=dark] .colab-df-convert:hover {\n",
              "      background-color: #434B5C;\n",
              "      box-shadow: 0px 1px 3px 1px rgba(0, 0, 0, 0.15);\n",
              "      filter: drop-shadow(0px 1px 2px rgba(0, 0, 0, 0.3));\n",
              "      fill: #FFFFFF;\n",
              "    }\n",
              "  </style>\n",
              "\n",
              "    <script>\n",
              "      const buttonEl =\n",
              "        document.querySelector('#df-73ad586a-bdce-4387-9b87-5b6d5988403e button.colab-df-convert');\n",
              "      buttonEl.style.display =\n",
              "        google.colab.kernel.accessAllowed ? 'block' : 'none';\n",
              "\n",
              "      async function convertToInteractive(key) {\n",
              "        const element = document.querySelector('#df-73ad586a-bdce-4387-9b87-5b6d5988403e');\n",
              "        const dataTable =\n",
              "          await google.colab.kernel.invokeFunction('convertToInteractive',\n",
              "                                                    [key], {});\n",
              "        if (!dataTable) return;\n",
              "\n",
              "        const docLinkHtml = 'Like what you see? Visit the ' +\n",
              "          '<a target=\"_blank\" href=https://colab.research.google.com/notebooks/data_table.ipynb>data table notebook</a>'\n",
              "          + ' to learn more about interactive tables.';\n",
              "        element.innerHTML = '';\n",
              "        dataTable['output_type'] = 'display_data';\n",
              "        await google.colab.output.renderOutput(dataTable, element);\n",
              "        const docLink = document.createElement('div');\n",
              "        docLink.innerHTML = docLinkHtml;\n",
              "        element.appendChild(docLink);\n",
              "      }\n",
              "    </script>\n",
              "  </div>\n",
              "\n",
              "\n",
              "<div id=\"df-c758a474-07e5-47c2-bc2b-26c9991bcf19\">\n",
              "  <button class=\"colab-df-quickchart\" onclick=\"quickchart('df-c758a474-07e5-47c2-bc2b-26c9991bcf19')\"\n",
              "            title=\"Suggest charts\"\n",
              "            style=\"display:none;\">\n",
              "\n",
              "<svg xmlns=\"http://www.w3.org/2000/svg\" height=\"24px\"viewBox=\"0 0 24 24\"\n",
              "     width=\"24px\">\n",
              "    <g>\n",
              "        <path d=\"M19 3H5c-1.1 0-2 .9-2 2v14c0 1.1.9 2 2 2h14c1.1 0 2-.9 2-2V5c0-1.1-.9-2-2-2zM9 17H7v-7h2v7zm4 0h-2V7h2v10zm4 0h-2v-4h2v4z\"/>\n",
              "    </g>\n",
              "</svg>\n",
              "  </button>\n",
              "\n",
              "<style>\n",
              "  .colab-df-quickchart {\n",
              "      --bg-color: #E8F0FE;\n",
              "      --fill-color: #1967D2;\n",
              "      --hover-bg-color: #E2EBFA;\n",
              "      --hover-fill-color: #174EA6;\n",
              "      --disabled-fill-color: #AAA;\n",
              "      --disabled-bg-color: #DDD;\n",
              "  }\n",
              "\n",
              "  [theme=dark] .colab-df-quickchart {\n",
              "      --bg-color: #3B4455;\n",
              "      --fill-color: #D2E3FC;\n",
              "      --hover-bg-color: #434B5C;\n",
              "      --hover-fill-color: #FFFFFF;\n",
              "      --disabled-bg-color: #3B4455;\n",
              "      --disabled-fill-color: #666;\n",
              "  }\n",
              "\n",
              "  .colab-df-quickchart {\n",
              "    background-color: var(--bg-color);\n",
              "    border: none;\n",
              "    border-radius: 50%;\n",
              "    cursor: pointer;\n",
              "    display: none;\n",
              "    fill: var(--fill-color);\n",
              "    height: 32px;\n",
              "    padding: 0;\n",
              "    width: 32px;\n",
              "  }\n",
              "\n",
              "  .colab-df-quickchart:hover {\n",
              "    background-color: var(--hover-bg-color);\n",
              "    box-shadow: 0 1px 2px rgba(60, 64, 67, 0.3), 0 1px 3px 1px rgba(60, 64, 67, 0.15);\n",
              "    fill: var(--button-hover-fill-color);\n",
              "  }\n",
              "\n",
              "  .colab-df-quickchart-complete:disabled,\n",
              "  .colab-df-quickchart-complete:disabled:hover {\n",
              "    background-color: var(--disabled-bg-color);\n",
              "    fill: var(--disabled-fill-color);\n",
              "    box-shadow: none;\n",
              "  }\n",
              "\n",
              "  .colab-df-spinner {\n",
              "    border: 2px solid var(--fill-color);\n",
              "    border-color: transparent;\n",
              "    border-bottom-color: var(--fill-color);\n",
              "    animation:\n",
              "      spin 1s steps(1) infinite;\n",
              "  }\n",
              "\n",
              "  @keyframes spin {\n",
              "    0% {\n",
              "      border-color: transparent;\n",
              "      border-bottom-color: var(--fill-color);\n",
              "      border-left-color: var(--fill-color);\n",
              "    }\n",
              "    20% {\n",
              "      border-color: transparent;\n",
              "      border-left-color: var(--fill-color);\n",
              "      border-top-color: var(--fill-color);\n",
              "    }\n",
              "    30% {\n",
              "      border-color: transparent;\n",
              "      border-left-color: var(--fill-color);\n",
              "      border-top-color: var(--fill-color);\n",
              "      border-right-color: var(--fill-color);\n",
              "    }\n",
              "    40% {\n",
              "      border-color: transparent;\n",
              "      border-right-color: var(--fill-color);\n",
              "      border-top-color: var(--fill-color);\n",
              "    }\n",
              "    60% {\n",
              "      border-color: transparent;\n",
              "      border-right-color: var(--fill-color);\n",
              "    }\n",
              "    80% {\n",
              "      border-color: transparent;\n",
              "      border-right-color: var(--fill-color);\n",
              "      border-bottom-color: var(--fill-color);\n",
              "    }\n",
              "    90% {\n",
              "      border-color: transparent;\n",
              "      border-bottom-color: var(--fill-color);\n",
              "    }\n",
              "  }\n",
              "</style>\n",
              "\n",
              "  <script>\n",
              "    async function quickchart(key) {\n",
              "      const quickchartButtonEl =\n",
              "        document.querySelector('#' + key + ' button');\n",
              "      quickchartButtonEl.disabled = true;  // To prevent multiple clicks.\n",
              "      quickchartButtonEl.classList.add('colab-df-spinner');\n",
              "      try {\n",
              "        const charts = await google.colab.kernel.invokeFunction(\n",
              "            'suggestCharts', [key], {});\n",
              "      } catch (error) {\n",
              "        console.error('Error during call to suggestCharts:', error);\n",
              "      }\n",
              "      quickchartButtonEl.classList.remove('colab-df-spinner');\n",
              "      quickchartButtonEl.classList.add('colab-df-quickchart-complete');\n",
              "    }\n",
              "    (() => {\n",
              "      let quickchartButtonEl =\n",
              "        document.querySelector('#df-c758a474-07e5-47c2-bc2b-26c9991bcf19 button');\n",
              "      quickchartButtonEl.style.display =\n",
              "        google.colab.kernel.accessAllowed ? 'block' : 'none';\n",
              "    })();\n",
              "  </script>\n",
              "</div>\n",
              "    </div>\n",
              "  </div>\n"
            ]
          },
          "metadata": {},
          "execution_count": 2
        }
      ],
      "source": [
        "df = pd.read_csv(\"/content/Program_1_Dataset - Program_1_Dataset.csv\")\n",
        "df.head()"
      ]
    },
    {
      "cell_type": "code",
      "execution_count": 3,
      "metadata": {
        "colab": {
          "base_uri": "https://localhost:8080/"
        },
        "id": "UQcs15vF6dMr",
        "outputId": "1427fc50-64c1-4064-f4b7-63b76ef39dce"
      },
      "outputs": [
        {
          "output_type": "execute_result",
          "data": {
            "text/plain": [
              "(506, 14)"
            ]
          },
          "metadata": {},
          "execution_count": 3
        }
      ],
      "source": [
        "df.shape"
      ]
    },
    {
      "cell_type": "code",
      "execution_count": 4,
      "metadata": {
        "colab": {
          "base_uri": "https://localhost:8080/"
        },
        "id": "h4CipwOz6h8a",
        "outputId": "6f933b20-b734-43a9-a262-86b1ce340d58"
      },
      "outputs": [
        {
          "output_type": "execute_result",
          "data": {
            "text/plain": [
              "Crime_Rate          0\n",
              "Zone_proportion     0\n",
              "Non_Retail_Acres    0\n",
              "CHAS                0\n",
              "NOX                 0\n",
              "Avg_rooms           0\n",
              "AGE                 0\n",
              "Distance            0\n",
              "RAD                 0\n",
              "Property_TaxRate    0\n",
              "PTRATIO             0\n",
              "B                   0\n",
              "LSTAT               0\n",
              "MValue              0\n",
              "dtype: int64"
            ]
          },
          "metadata": {},
          "execution_count": 4
        }
      ],
      "source": [
        "df.isnull().sum()"
      ]
    },
    {
      "cell_type": "code",
      "execution_count": 5,
      "metadata": {
        "id": "X7WCIonfD7Ym"
      },
      "outputs": [],
      "source": [
        "df1 = df[['Avg_rooms','MValue' ]]"
      ]
    },
    {
      "cell_type": "code",
      "execution_count": 6,
      "metadata": {
        "id": "jRhQsIxOD7Yn"
      },
      "outputs": [],
      "source": [
        "#Feature Variables\n",
        "x1= df1['Avg_rooms'].values\n",
        "\n",
        "#Target Variable\n",
        "y1 = df1['MValue'].values"
      ]
    },
    {
      "cell_type": "markdown",
      "metadata": {
        "id": "ZGZiIIoDD7Yp"
      },
      "source": [
        "***Outlier Detection***"
      ]
    },
    {
      "cell_type": "code",
      "execution_count": 7,
      "metadata": {
        "id": "OncV0azVD7Yu",
        "outputId": "e1e1d76e-8ea0-4cf9-9d9a-be7e0d96f06d",
        "colab": {
          "base_uri": "https://localhost:8080/",
          "height": 486
        }
      },
      "outputs": [
        {
          "output_type": "stream",
          "name": "stderr",
          "text": [
            "WARNING:matplotlib.legend:No artists with labels found to put in legend.  Note that artists whose label start with an underscore are ignored when legend() is called with no argument.\n"
          ]
        },
        {
          "output_type": "display_data",
          "data": {
            "text/plain": [
              "<Figure size 640x480 with 1 Axes>"
            ],
            "image/png": "[encoded data removed]"
          },
          "metadata": {}
        }
      ],
      "source": [
        "plt.scatter(x1,y1, c = 'green')\n",
        "\n",
        "plt.xlabel('Avg_rooms')\n",
        "plt.ylabel('MValue')\n",
        "plt.legend()\n",
        "plt.show()"
      ]
    },
    {
      "cell_type": "code",
      "execution_count": 8,
      "metadata": {
        "id": "JXW6TZw6D7Yw"
      },
      "outputs": [],
      "source": [
        "from scipy.stats import zscore\n",
        "\n",
        "\n",
        "zscore_df=df1.apply(zscore)\n",
        "\n"
      ]
    },
    {
      "cell_type": "code",
      "execution_count": 9,
      "metadata": {
        "id": "45AErug4D7Yy",
        "outputId": "b49c41c5-ec43-40d3-bc99-2dcd668a9598",
        "colab": {
          "base_uri": "https://localhost:8080/"
        }
      },
      "outputs": [
        {
          "output_type": "execute_result",
          "data": {
            "text/plain": [
              "Avg_rooms    8\n",
              "MValue       0\n",
              "dtype: int64"
            ]
          },
          "metadata": {},
          "execution_count": 9
        }
      ],
      "source": [
        "\n",
        "outlier=((zscore_df>3)|(zscore_df<-3)).sum()\n",
        "outlier"
      ]
    },
    {
      "cell_type": "code",
      "execution_count": 10,
      "metadata": {
        "id": "yNi-1xmWD7Y1"
      },
      "outputs": [],
      "source": [
        "outlier_mask = (zscore_df > 3) | (zscore_df < -3)\n",
        "\n",
        "outlier_rows = np.any(outlier_mask, axis=1)\n",
        "\n",
        "cleaned_df = zscore_df[~outlier_rows]"
      ]
    },
    {
      "cell_type": "code",
      "execution_count": 11,
      "metadata": {
        "id": "yKAlQhkxD7Y2",
        "outputId": "cf2be220-1d42-4b5a-c266-ce4e7575d016",
        "colab": {
          "base_uri": "https://localhost:8080/"
        }
      },
      "outputs": [
        {
          "output_type": "execute_result",
          "data": {
            "text/plain": [
              "Avg_rooms    0\n",
              "MValue       0\n",
              "dtype: int64"
            ]
          },
          "metadata": {},
          "execution_count": 11
        }
      ],
      "source": [
        "\n",
        "outlier=((cleaned_df>3)|(cleaned_df<-3)).sum()\n",
        "outlier"
      ]
    },
    {
      "cell_type": "code",
      "execution_count": 12,
      "metadata": {
        "id": "RSi0ZPJpD7Y3"
      },
      "outputs": [],
      "source": [
        "#Feature Variables\n",
        "x= cleaned_df['Avg_rooms'].values\n",
        "\n",
        "#Target Variable\n",
        "y = cleaned_df['MValue'].values"
      ]
    },
    {
      "cell_type": "code",
      "execution_count": 13,
      "metadata": {
        "id": "BfWs3RnZD7Y4",
        "outputId": "05ea14ad-3641-4b84-c8ed-69b3fbfc2ae1",
        "colab": {
          "base_uri": "https://localhost:8080/",
          "height": 486
        }
      },
      "outputs": [
        {
          "output_type": "stream",
          "name": "stderr",
          "text": [
            "WARNING:matplotlib.legend:No artists with labels found to put in legend.  Note that artists whose label start with an underscore are ignored when legend() is called with no argument.\n"
          ]
        },
        {
          "output_type": "display_data",
          "data": {
            "text/plain": [
              "<Figure size 640x480 with 1 Axes>"
            ],
            "image/png": "[encoded data removed]"
          },
          "metadata": {}
        }
      ],
      "source": [
        "plt.scatter(x,y, c = 'blue')\n",
        "\n",
        "plt.xlabel('Avg_rooms')\n",
        "plt.ylabel('MValue')\n",
        "plt.legend()\n",
        "plt.show()"
      ]
    },
    {
      "cell_type": "markdown",
      "metadata": {
        "id": "ILgk0Qv3_eXu"
      },
      "source": [
        "***Correlation between target and predictor variables***"
      ]
    },
    {
      "cell_type": "code",
      "execution_count": 14,
      "metadata": {
        "id": "VF1ZFXPs6mXe"
      },
      "outputs": [],
      "source": [
        "subset_df = df[[\"Avg_rooms\", \"MValue\"]]\n",
        "\n",
        "corr_matrix = subset_df.corr()"
      ]
    },
    {
      "cell_type": "code",
      "execution_count": 15,
      "metadata": {
        "colab": {
          "base_uri": "https://localhost:8080/",
          "height": 545
        },
        "id": "sDn8tjvO-KPC",
        "outputId": "674898b1-5ec4-49a3-e4c7-484c61558f8a"
      },
      "outputs": [
        {
          "output_type": "execute_result",
          "data": {
            "text/plain": [
              "<Axes: >"
            ]
          },
          "metadata": {},
          "execution_count": 15
        },
        {
          "output_type": "display_data",
          "data": {
            "text/plain": [
              "<Figure size 1000x600 with 2 Axes>"
            ],
            "image/png": "[encoded data removed]"
          },
          "metadata": {}
        }
      ],
      "source": [
        "plt.figure(figsize = (10,6))\n",
        "sns.heatmap(corr_matrix, cmap = 'YlGnBu', annot = True)"
      ]
    },
    {
      "cell_type": "code",
      "execution_count": 16,
      "metadata": {
        "id": "HiLsh4-h_npc"
      },
      "outputs": [],
      "source": [
        "from sklearn.model_selection import train_test_split\n",
        "x_train, x_test, y_train, y_test = train_test_split(x,y, test_size=0.3, random_state= 42)"
      ]
    },
    {
      "cell_type": "code",
      "execution_count": 17,
      "metadata": {
        "id": "2Rze7ELlD7Y8"
      },
      "outputs": [],
      "source": [
        "x_train = x_train.reshape(-1, 1)\n",
        "x_test = x_test.reshape(-1, 1)\n",
        "y_train = y_train.reshape(-1, 1)\n",
        "y_test = y_test.reshape(-1, 1)"
      ]
    },
    {
      "cell_type": "markdown",
      "metadata": {
        "id": "mNL0ID7L_pd0"
      },
      "source": [
        "## **Linear Regression**"
      ]
    },
    {
      "cell_type": "markdown",
      "metadata": {
        "id": "-x-aD41O_wmt"
      },
      "source": [
        "Linear regression is a statistical method used for modeling the relationship between a continuous dependent variable and one or more independent variables. In linear regression, the goal is to find the best-fitting linear relationship (a line in the case of simple linear regression or a plane in multiple linear regression) that minimizes the sum of squared differences between the observed and predicted values. This method is commonly employed for both understanding the strength and direction of relationships between variables and making predictions based on those relationships"
      ]
    },
    {
      "cell_type": "code",
      "execution_count": 18,
      "metadata": {
        "id": "uhlqRxBD_U68",
        "outputId": "0cc305e7-990e-4f9c-c256-27953a403765",
        "colab": {
          "base_uri": "https://localhost:8080/",
          "height": 74
        }
      },
      "outputs": [
        {
          "output_type": "execute_result",
          "data": {
            "text/plain": [
              "LinearRegression()"
            ],
            "text/html": [
              "<style>#sk-container-id-1 {color: black;background-color: white;}#sk-container-id-1 pre{padding: 0;}#sk-container-id-1 div.sk-toggleable {background-color: white;}#sk-container-id-1 label.sk-toggleable__label {cursor: pointer;display: block;width: 100%;margin-bottom: 0;padding: 0.3em;box-sizing: border-box;text-align: center;}#sk-container-id-1 label.sk-toggleable__label-arrow:before {content: \"▸\";float: left;margin-right: 0.25em;color: #696969;}#sk-container-id-1 label.sk-toggleable__label-arrow:hover:before {color: black;}#sk-container-id-1 div.sk-estimator:hover label.sk-toggleable__label-arrow:before {color: black;}#sk-container-id-1 div.sk-toggleable__content {max-height: 0;max-width: 0;overflow: hidden;text-align: left;background-color: #f0f8ff;}#sk-container-id-1 div.sk-toggleable__content pre {margin: 0.2em;color: black;border-radius: 0.25em;background-color: #f0f8ff;}#sk-container-id-1 input.sk-toggleable__control:checked~div.sk-toggleable__content {max-height: 200px;max-width: 100%;overflow: auto;}#sk-container-id-1 input.sk-toggleable__control:checked~label.sk-toggleable__label-arrow:before {content: \"▾\";}#sk-container-id-1 div.sk-estimator input.sk-toggleable__control:checked~label.sk-toggleable__label {background-color: #d4ebff;}#sk-container-id-1 div.sk-label input.sk-toggleable__control:checked~label.sk-toggleable__label {background-color: #d4ebff;}#sk-container-id-1 input.sk-hidden--visually {border: 0;clip: rect(1px 1px 1px 1px);clip: rect(1px, 1px, 1px, 1px);height: 1px;margin: -1px;overflow: hidden;padding: 0;position: absolute;width: 1px;}#sk-container-id-1 div.sk-estimator {font-family: monospace;background-color: #f0f8ff;border: 1px dotted black;border-radius: 0.25em;box-sizing: border-box;margin-bottom: 0.5em;}#sk-container-id-1 div.sk-estimator:hover {background-color: #d4ebff;}#sk-container-id-1 div.sk-parallel-item::after {content: \"\";width: 100%;border-bottom: 1px solid gray;flex-grow: 1;}#sk-container-id-1 div.sk-label:hover label.sk-toggleable__label {background-color: #d4ebff;}#sk-container-id-1 div.sk-serial::before {content: \"\";position: absolute;border-left: 1px solid gray;box-sizing: border-box;top: 0;bottom: 0;left: 50%;z-index: 0;}#sk-container-id-1 div.sk-serial {display: flex;flex-direction: column;align-items: center;background-color: white;padding-right: 0.2em;padding-left: 0.2em;position: relative;}#sk-container-id-1 div.sk-item {position: relative;z-index: 1;}#sk-container-id-1 div.sk-parallel {display: flex;align-items: stretch;justify-content: center;background-color: white;position: relative;}#sk-container-id-1 div.sk-item::before, #sk-container-id-1 div.sk-parallel-item::before {content: \"\";position: absolute;border-left: 1px solid gray;box-sizing: border-box;top: 0;bottom: 0;left: 50%;z-index: -1;}#sk-container-id-1 div.sk-parallel-item {display: flex;flex-direction: column;z-index: 1;position: relative;background-color: white;}#sk-container-id-1 div.sk-parallel-item:first-child::after {align-self: flex-end;width: 50%;}#sk-container-id-1 div.sk-parallel-item:last-child::after {align-self: flex-start;width: 50%;}#sk-container-id-1 div.sk-parallel-item:only-child::after {width: 0;}#sk-container-id-1 div.sk-dashed-wrapped {border: 1px dashed gray;margin: 0 0.4em 0.5em 0.4em;box-sizing: border-box;padding-bottom: 0.4em;background-color: white;}#sk-container-id-1 div.sk-label label {font-family: monospace;font-weight: bold;display: inline-block;line-height: 1.2em;}#sk-container-id-1 div.sk-label-container {text-align: center;}#sk-container-id-1 div.sk-container {/* jupyter's `normalize.less` sets `[hidden] { display: none; }` but bootstrap.min.css set `[hidden] { display: none !important; }` so we also need the `!important` here to be able to override the default hidden behavior on the sphinx rendered scikit-learn.org. See: https://github.com/scikit-learn/scikit-learn/issues/21755 */display: inline-block !important;position: relative;}#sk-container-id-1 div.sk-text-repr-fallback {display: none;}</style><div id=\"sk-container-id-1\" class=\"sk-top-container\"><div class=\"sk-text-repr-fallback\"><pre>LinearRegression()</pre><b>In a Jupyter environment, please rerun this cell to show the HTML representation or trust the notebook. <br />On GitHub, the HTML representation is unable to render, please try loading this page with nbviewer.org.</b></div><div class=\"sk-container\" hidden><div class=\"sk-item\"><div class=\"sk-estimator sk-toggleable\"><input class=\"sk-toggleable__control sk-hidden--visually\" id=\"sk-estimator-id-1\" type=\"checkbox\" checked><label for=\"sk-estimator-id-1\" class=\"sk-toggleable__label sk-toggleable__label-arrow\">LinearRegression</label><div class=\"sk-toggleable__content\"><pre>LinearRegression()</pre></div></div></div></div></div>"
            ]
          },
          "metadata": {},
          "execution_count": 18
        }
      ],
      "source": [
        "from sklearn.linear_model import LinearRegression\n",
        "\n",
        "model = LinearRegression()\n",
        "model.fit(x_train, y_train)\n"
      ]
    },
    {
      "cell_type": "code",
      "execution_count": 19,
      "metadata": {
        "id": "efurYkRdD7Y-"
      },
      "outputs": [],
      "source": [
        "y_pred = model.predict(x_test)"
      ]
    },
    {
      "cell_type": "code",
      "execution_count": 20,
      "metadata": {
        "id": "CXMJMOB3D7Y-",
        "outputId": "e420bb48-5006-470f-c5a0-3b753d3aa212",
        "colab": {
          "base_uri": "https://localhost:8080/"
        }
      },
      "outputs": [
        {
          "output_type": "stream",
          "name": "stdout",
          "text": [
            "Coefficient: 0.7663677622058942\n",
            "Intercept: -0.003934385073695718\n"
          ]
        }
      ],
      "source": [
        "coefficient = model.coef_[0][0]\n",
        "intercept = model.intercept_[0]\n",
        "\n",
        "print(f'Coefficient: {coefficient}')\n",
        "print(f'Intercept: {intercept}')\n"
      ]
    },
    {
      "cell_type": "markdown",
      "metadata": {
        "id": "rjj1w8ZFD7Y_"
      },
      "source": [
        "- The coefficient of 0.7664 represents the change in the dependent variable for a one-unit change in the independent variable.\n",
        "\n",
        "- The intercept of -0.0039 is the value of the dependent variable when all independent variables are zero."
      ]
    },
    {
      "cell_type": "code",
      "execution_count": 21,
      "metadata": {
        "id": "j4QCFUy_D7Y_",
        "outputId": "871d5c7a-ef56-4a1a-e5bf-f644a9249868",
        "colab": {
          "base_uri": "https://localhost:8080/"
        }
      },
      "outputs": [
        {
          "output_type": "stream",
          "name": "stdout",
          "text": [
            "Training Set Metrics:\n",
            "Mean Squared Error: 0.4710810357595056\n",
            "R-squared: 0.49921587307378623\n",
            "\n",
            "Testing Set Metrics:\n",
            "Mean Squared Error: 0.45698855923776716\n",
            "R-squared: 0.5422713105782178\n"
          ]
        }
      ],
      "source": [
        "from sklearn.metrics import mean_squared_error, r2_score\n",
        "Y_train_pred = model.predict(x_train)\n",
        "mse_train = mean_squared_error(y_train, Y_train_pred)\n",
        "r2_train = r2_score(y_train, Y_train_pred)\n",
        "\n",
        "print(f'Training Set Metrics:')\n",
        "print(f'Mean Squared Error: {mse_train}')\n",
        "print(f'R-squared: {r2_train}')\n",
        "\n",
        "Y_test_pred = model.predict(x_test)\n",
        "\n",
        "mse_test = mean_squared_error(y_test, Y_test_pred)\n",
        "r2_test = r2_score(y_test, Y_test_pred)\n",
        "\n",
        "print('\\nTesting Set Metrics:')\n",
        "print(f'Mean Squared Error: {mse_test}')\n",
        "print(f'R-squared: {r2_test}')"
      ]
    },
    {
      "cell_type": "markdown",
      "metadata": {
        "id": "OshW3dC4D7ZA"
      },
      "source": [
        "\n",
        "#### Training Set Metrics:\n",
        "1. **Mean Squared Error (MSE):** The MSE on the training set is 0.4711. MSE represents the average squared difference between the actual and predicted values. A lower MSE indicates that the model's predictions are closer to the actual values on the training data.\n",
        "\n",
        "2. **R-squared (R²):** The R-squared value on the training set is 0.4992. R-squared measures the proportion of the variance in the dependent variable that is predictable from the independent variables. A value closer to 1 suggests that the model explains a significant portion of the variability in the data.\n",
        "\n",
        "#### Testing Set Metrics:\n",
        "1. **Mean Squared Error (MSE):** The MSE on the testing set is 0.4570. Similar to the training set, a lower MSE on the testing set indicates that the model's predictions are, on average, closer to the actual values. It is essential to compare this value with the training set MSE to assess how well the model generalizes to new, unseen data.\n",
        "\n",
        "2. **R-squared (R²):** The R-squared value on the testing set is 0.5423. A higher R-squared value suggests that the model performs reasonably well on the testing set, explaining a significant proportion of the variance. However, it's crucial to consider the balance between training and testing set performance to avoid overfitting or underfitting.\n",
        "\n"
      ]
    }
  ],
  "metadata": {
    "colab": {
      "provenance": [],
      "include_colab_link": true
    },
    "kernelspec": {
      "display_name": "Python 3",
      "name": "python3"
    },
    "language_info": {
      "codemirror_mode": {
        "name": "ipython",
        "version": 3
      },
      "file_extension": ".py",
      "mimetype": "text/x-python",
      "name": "python",
      "nbconvert_exporter": "python",
      "pygments_lexer": "ipython3",
      "version": "3.11.0"
    }
  },
  "nbformat": 4,
  "nbformat_minor": 0
}